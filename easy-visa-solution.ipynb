{
 "cells": [
  {
   "cell_type": "markdown",
   "metadata": {},
   "source": [
    "# Easy Visa (Visa Application Analysis and Classification)\n",
    "\n",
    "## Overview\n",
    "\n",
    "This project focuses on analyzing and predicting visa application outcomes using machine learning. The Office of Foreign Labor Certification (OFLC) processes thousands of applications for employers seeking to bring foreign workers into the U.S. every year. As the number of applications increases, it becomes increasingly tedious to manually review all cases.\n",
    "\n",
    "This project aims to:\n",
    "- Facilitate the process of visa approvals using a machine learning classification model.\n",
    "- Recommend a suitable profile for applicants based on the significant factors that influence visa approval or denial.\n",
    "\n",
    "## Objective\n",
    "\n",
    "In FY 2016, the OFLC processed 775,979 employer applications for 1,699,957 positions, a 9% increase from the previous year. Given this increasing number of applications, the goal of this project is to develop a **Machine Learning** solution that helps predict visa certification outcomes and shortlists candidates with a higher likelihood of approval.\n",
    "\n",
    "## Dataset Description\n",
    "\n",
    "The dataset contains attributes related to both the employee (foreign worker) and the employer. Below are key columns in the data:\n",
    "\n",
    "- **case_id**: ID of each visa application.\n",
    "- **continent**: Continent of the employee.\n",
    "- **education_of_employee**: Employee's education level.\n",
    "- **has_job_experience**: Indicates if the employee has previous job experience (Y/N).\n",
    "- **requires_job_training**: Indicates if job training is required (Y/N).\n",
    "- **no_of_employees**: Number of employees in the employer's company.\n",
    "- **yr_of_estab**: Year the employer's company was established.\n",
    "- **region_of_employment**: U.S. region where the foreign worker is employed.\n",
    "- **prevailing_wage**: Average wage paid to similarly employed workers in the occupation area.\n",
    "- **unit_of_wage**: Wage unit (Hourly, Weekly, Monthly, Yearly).\n",
    "- **full_time_position**: Whether the position is full-time (Y/N).\n",
    "- **case_status**: Visa certification status (Certified/Denied).\n",
    "\n",
    "## Exploratory Data Analysis (EDA) Questions\n",
    "\n",
    "The EDA seeks to answer key questions that will help us understand the drivers of visa certification:\n",
    "\n",
    "1. **Education and Certification**: Does education level impact visa certification?\n",
    "2. **Continent and Visa Status**: How does visa certification vary across different continents?\n",
    "3. **Work Experience**: Does having job experience influence visa approval?\n",
    "4. **Wage Unit**: Which wage unit (Hourly, Weekly, Monthly, Yearly) is most likely to lead to visa certification?\n",
    "5. **Prevailing Wage**: How does visa status change with different levels of prevailing wage?\n",
    "\n",
    "## Project Structure\n",
    "\n",
    "- `data/`: Contains the raw dataset for visa applications.\n",
    "- `notebooks/`: Jupyter notebooks used for data exploration, analysis, and modeling.\n",
    "- `scripts/`: Python scripts for data preprocessing, feature engineering, and model training.\n",
    "- `models/`: Directory to store trained models.\n",
    "- `README.md`: Project documentation (this file).\n",
    "\n",
    "## Machine Learning Approach\n",
    "\n",
    "The classification model is designed to predict whether a visa application will be **certified** or **denied**. The following steps are taken:\n",
    "\n",
    "1. **Data Preprocessing**: Cleaning the data, handling missing values, encoding categorical variables, and scaling numerical features.\n",
    "2. **Feature Engineering**: Creating new features based on domain knowledge, such as grouping wage units or calculating the company's age.\n",
    "3. **Model Selection**: Evaluating different classification models like Logistic Regression, Decision Trees, Random Forests, and Gradient Boosting Machines.\n",
    "4. **Model Evaluation**: Using metrics such as accuracy, precision, recall, F1-score, and ROC-AUC to assess model performance.\n",
    "\n",
    "## Results\n",
    "\n",
    "- The final model demonstrates significant accuracy in predicting visa certification.\n",
    "- Features such as **education level**, **work experience**, and **prevailing wage** are strong indicators of visa approval.\n"
   ]
  },
  {
   "cell_type": "code",
   "execution_count": 9,
   "metadata": {},
   "outputs": [
    {
     "ename": "ModuleNotFoundError",
     "evalue": "No module named 'statsmodels'",
     "output_type": "error",
     "traceback": [
      "\u001b[0;31m---------------------------------------------------------------------------\u001b[0m",
      "\u001b[0;31mModuleNotFoundError\u001b[0m                       Traceback (most recent call last)",
      "Cell \u001b[0;32mIn[9], line 25\u001b[0m\n\u001b[1;32m     14\u001b[0m \u001b[38;5;66;03m# To get diferent metric scores\u001b[39;00m\n\u001b[1;32m     15\u001b[0m \u001b[38;5;28;01mfrom\u001b[39;00m \u001b[38;5;21;01msklearn\u001b[39;00m\u001b[38;5;21;01m.\u001b[39;00m\u001b[38;5;21;01mmetrics\u001b[39;00m \u001b[38;5;28;01mimport\u001b[39;00m (\n\u001b[1;32m     16\u001b[0m     f1_score,\n\u001b[1;32m     17\u001b[0m     accuracy_score,\n\u001b[0;32m   (...)\u001b[0m\n\u001b[1;32m     23\u001b[0m     precision_recall_curve,\n\u001b[1;32m     24\u001b[0m )\n\u001b[0;32m---> 25\u001b[0m \u001b[38;5;28;01mimport\u001b[39;00m \u001b[38;5;21;01mstatsmodels\u001b[39;00m\u001b[38;5;21;01m.\u001b[39;00m\u001b[38;5;21;01mapi\u001b[39;00m \u001b[38;5;28;01mas\u001b[39;00m \u001b[38;5;21;01msm\u001b[39;00m\n\u001b[1;32m     26\u001b[0m \u001b[38;5;66;03m# To build model for prediction\u001b[39;00m\n\u001b[1;32m     27\u001b[0m \u001b[38;5;28;01mfrom\u001b[39;00m \u001b[38;5;21;01msklearn\u001b[39;00m\u001b[38;5;21;01m.\u001b[39;00m\u001b[38;5;21;01mlinear_model\u001b[39;00m \u001b[38;5;28;01mimport\u001b[39;00m LogisticRegression\n",
      "\u001b[0;31mModuleNotFoundError\u001b[0m: No module named 'statsmodels'"
     ]
    }
   ],
   "source": [
    "# Libraries to help with reading and manipulating data\n",
    "import numpy as np\n",
    "import pandas as pd\n",
    "# Libraries to help with data visualization\n",
    "import matplotlib.pyplot as plt\n",
    "import seaborn as sns\n",
    "# Library to help with statistical analysis\n",
    "import scipy.stats as stats\n",
    "from mpl_toolkits.mplot3d import axes3d\n",
    "from sklearn.metrics import r2_score\n",
    "from sklearn.model_selection import train_test_split\n",
    "from sklearn.preprocessing import LabelEncoder\n",
    "from matplotlib.colors import ListedColormap\n",
    "# To get diferent metric scores\n",
    "from sklearn.metrics import (\n",
    "    f1_score,\n",
    "    accuracy_score,\n",
    "    recall_score,\n",
    "    precision_score,\n",
    "    confusion_matrix,\n",
    "    roc_auc_score,\n",
    "    roc_curve,\n",
    "    precision_recall_curve,\n",
    ")\n",
    "import statsmodels.api as sm\n",
    "# To build model for prediction\n",
    "from sklearn.linear_model import LogisticRegression\n",
    "# Import standard scalar\n",
    "from sklearn.preprocessing import StandardScaler\n",
    "# import RFE\n",
    "from sklearn.feature_selection import RFE\n",
    "# To ignore unnecessary warnings\n",
    "import warnings\n",
    "warnings.filterwarnings(\"ignore\")"
   ]
  },
  {
   "cell_type": "code",
   "execution_count": null,
   "metadata": {
    "editable": true,
    "slideshow": {
     "slide_type": ""
    },
    "tags": []
   },
   "outputs": [],
   "source": []
  }
 ],
 "metadata": {
  "kernelspec": {
   "display_name": "Python 3 (ipykernel)",
   "language": "python",
   "name": "python3"
  },
  "language_info": {
   "codemirror_mode": {
    "name": "ipython",
    "version": 3
   },
   "file_extension": ".py",
   "mimetype": "text/x-python",
   "name": "python",
   "nbconvert_exporter": "python",
   "pygments_lexer": "ipython3",
   "version": "3.12.1"
  }
 },
 "nbformat": 4,
 "nbformat_minor": 4
}
