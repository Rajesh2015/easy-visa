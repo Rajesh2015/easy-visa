{
 "cells": [
  {
   "cell_type": "code",
   "execution_count": 3,
   "metadata": {},
   "outputs": [
    {
     "ename": "SyntaxError",
     "evalue": "unterminated string literal (detected at line 21) (1527511933.py, line 21)",
     "output_type": "error",
     "traceback": [
      "\u001b[0;36m  Cell \u001b[0;32mIn[3], line 21\u001b[0;36m\u001b[0m\n\u001b[0;31m    - **education_of_employee**: Employee's education level.\u001b[0m\n\u001b[0m                                         ^\u001b[0m\n\u001b[0;31mSyntaxError\u001b[0m\u001b[0;31m:\u001b[0m unterminated string literal (detected at line 21)\n"
     ]
    }
   ],
   "source": [
    "# Easy Visa (Visa Application Analysis and Classification)\n",
    "\n",
    "## Overview\n",
    "\n",
    "This project focuses on analyzing and predicting visa application outcomes using machine learning. The Office of Foreign Labor Certification (OFLC) processes thousands of applications for employers seeking to bring foreign workers into the U.S. every year. As the number of applications increases, it becomes increasingly tedious to manually review all cases.\n",
    "\n",
    "This project aims to:\n",
    "- Facilitate the process of visa approvals using a machine learning classification model.\n",
    "- Recommend a suitable profile for applicants based on the significant factors that influence visa approval or denial.\n",
    "\n",
    "## Objective\n",
    "\n",
    "In FY 2016, the OFLC processed 775,979 employer applications for 1,699,957 positions, a 9% increase from the previous year. Given this increasing number of applications, the goal of this project is to develop a **Machine Learning** solution that helps predict visa certification outcomes and shortlists candidates with a higher likelihood of approval.\n",
    "\n",
    "## Dataset Description\n",
    "\n",
    "The dataset contains attributes related to both the employee (foreign worker) and the employer. Below are key columns in the data:\n",
    "\n",
    "- **case_id**: ID of each visa application.\n",
    "- **continent**: Continent of the employee.\n",
    "- **education_of_employee**: Employee's education level.\n",
    "- **has_job_experience**: Indicates if the employee has previous job experience (Y/N).\n",
    "- **requires_job_training**: Indicates if job training is required (Y/N).\n",
    "- **no_of_employees**: Number of employees in the employer's company.\n",
    "- **yr_of_estab**: Year the employer's company was established.\n",
    "- **region_of_employment**: U.S. region where the foreign worker is employed.\n",
    "- **prevailing_wage**: Average wage paid to similarly employed workers in the occupation area.\n",
    "- **unit_of_wage**: Wage unit (Hourly, Weekly, Monthly, Yearly).\n",
    "- **full_time_position**: Whether the position is full-time (Y/N).\n",
    "- **case_status**: Visa certification status (Certified/Denied).\n",
    "\n",
    "## Exploratory Data Analysis (EDA) Questions\n",
    "\n",
    "The EDA seeks to answer key questions that will help us understand the drivers of visa certification:\n",
    "\n",
    "1. **Education and Certification**: Does education level impact visa certification?\n",
    "2. **Continent and Visa Status**: How does visa certification vary across different continents?\n",
    "3. **Work Experience**: Does having job experience influence visa approval?\n",
    "4. **Wage Unit**: Which wage unit (Hourly, Weekly, Monthly, Yearly) is most likely to lead to visa certification?\n",
    "5. **Prevailing Wage**: How does visa status change with different levels of prevailing wage?\n",
    "\n",
    "## Project Structure\n",
    "\n",
    "- `data/`: Contains the raw dataset for visa applications.\n",
    "- `notebooks/`: Jupyter notebooks used for data exploration, analysis, and modeling.\n",
    "- `scripts/`: Python scripts for data preprocessing, feature engineering, and model training.\n",
    "- `models/`: Directory to store trained models.\n",
    "- `README.md`: Project documentation (this file).\n",
    "\n",
    "## Machine Learning Approach\n",
    "\n",
    "The classification model is designed to predict whether a visa application will be **certified** or **denied**. The following steps are taken:\n",
    "\n",
    "1. **Data Preprocessing**: Cleaning the data, handling missing values, encoding categorical variables, and scaling numerical features.\n",
    "2. **Feature Engineering**: Creating new features based on domain knowledge, such as grouping wage units or calculating the company's age.\n",
    "3. **Model Selection**: Evaluating different classification models like Logistic Regression, Decision Trees, Random Forests, and Gradient Boosting Machines.\n",
    "4. **Model Evaluation**: Using metrics such as accuracy, precision, recall, F1-score, and ROC-AUC to assess model performance.\n",
    "\n",
    "## Results\n",
    "\n",
    "- The final model demonstrates significant accuracy in predicting visa certification.\n",
    "- Features such as **education level**, **work experience**, and **prevailing wage** are strong indicators of visa approval.\n",
    "\n",
    "## How to Run\n",
    "\n",
    "1. Clone the repository:\n",
    "   ```bash\n",
    "   git clone https://github.com/yourusername/visa-classification.git\n"
   ]
  }
 ],
 "metadata": {
  "kernelspec": {
   "display_name": "Python 3",
   "language": "python",
   "name": "python3"
  },
  "language_info": {
   "codemirror_mode": {
    "name": "ipython",
    "version": 3
   },
   "file_extension": ".py",
   "mimetype": "text/x-python",
   "name": "python",
   "nbconvert_exporter": "python",
   "pygments_lexer": "ipython3",
   "version": "3.12.1"
  }
 },
 "nbformat": 4,
 "nbformat_minor": 2
}
